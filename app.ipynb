{
 "cells": [
  {
   "cell_type": "markdown",
   "metadata": {},
   "source": [
    "Importing all necessary packages"
   ]
  },
  {
   "cell_type": "code",
   "execution_count": null,
   "metadata": {},
   "outputs": [],
   "source": [
    "from langchain_community.document_loaders import PyPDFLoader\n",
    "from langchain_community.vectorstores import FAISS\n",
    "from langchain_text_splitters import RecursiveCharacterTextSplitter\n",
    "from langchain.chains.summarize import load_summarize_chain\n",
    "from langchain.prompts import PromptTemplate\n",
    "from langchain_openai import OpenAI\n",
    "from langchain_openai import OpenAIEmbeddings\n",
    "from langchain import hub"
   ]
  },
  {
   "cell_type": "markdown",
   "metadata": {},
   "source": [
    "Setting OpenAI API Key"
   ]
  },
  {
   "cell_type": "code",
   "execution_count": null,
   "metadata": {},
   "outputs": [],
   "source": [
    "import constants\n",
    "api_key = constants.openai_api_key"
   ]
  },
  {
   "cell_type": "markdown",
   "metadata": {},
   "source": [
    "Loading the pdf document using PyPDFLoader from langchain"
   ]
  },
  {
   "cell_type": "code",
   "execution_count": null,
   "metadata": {},
   "outputs": [],
   "source": [
    "pdf_path = 'crime-and-punishment.pdf'\n",
    "loader = PyPDFLoader(pdf_path, extract_images=False)\n",
    "\n",
    "data = []\n",
    "pages = loader.load()\n",
    "data.extend(pages[1:])\n",
    "\n",
    "# words = []\n",
    "# for i in data: \n",
    "#   words.append(i.page_content)\n",
    "# words = ' '.join(words)\n",
    "# len(words)\n",
    "\n"
   ]
  },
  {
   "cell_type": "markdown",
   "metadata": {},
   "source": [
    "Split the loaded document into chunks"
   ]
  },
  {
   "cell_type": "code",
   "execution_count": null,
   "metadata": {},
   "outputs": [],
   "source": [
    "text_splitter = RecursiveCharacterTextSplitter(\n",
    "    separators=[\".\", \",\", \"\\n\", \"\\n \\n\", \";\"],\n",
    "    chunk_size=1500,\n",
    "    chunk_overlap=150,\n",
    "    length_function=len,\n",
    "    is_separator_regex=False\n",
    ")\n",
    "chunks = text_splitter.split_documents(data)\n",
    "# len(chunks)\n"
   ]
  },
  {
   "cell_type": "markdown",
   "metadata": {},
   "source": [
    "Using RefineDocumentsChain from langchain"
   ]
  },
  {
   "cell_type": "code",
   "execution_count": null,
   "metadata": {},
   "outputs": [],
   "source": [
    "# Initialize the LLM\n",
    "llm = OpenAI(temperature=0.25, openai_api_key=api_key)\n",
    "\n",
    "# Define the prompt template for the initial summary\n",
    "prompt_template = \"\"\"Write a concise summary of the following:\n",
    "{text}\n",
    "CONCISE SUMMARY:\"\"\"\n",
    "\n",
    "prompt = PromptTemplate(template=prompt_template, input_variables=[\"text\"])\n",
    "\n",
    "# Define the refinement prompt template\n",
    "refine_template = (\n",
    "    \"Your job is to produce a final summary.\\n\"\n",
    "    \"We have provided an existing summary up to a certain point: {existing_answer}\\n\"\n",
    "    \"It's eventually going to be a precise 20-page summary of the complete book.\\n\"\n",
    "    \"We have the opportunity to refine the existing summary\"\n",
    "    \"(only if needed) with some more context below.\\n\"\n",
    "    \"------------\\n\"\n",
    "    \"{text}\\n\"\n",
    "    \"------------\\n\"\n",
    "    \"Given the new context, refine the original summary. There might be events narrated in the book, take care of that.\\n\"\n",
    "    \"If the context isn't of great use, do not add anything from it.\"\n",
    ")\n",
    "\n",
    "refine_prompt = PromptTemplate(template=refine_template, input_variables=[\"existing_answer\", \"text\"])\n",
    "\n",
    "# Load the summarize chain\n",
    "chain = load_summarize_chain(\n",
    "    llm=llm,\n",
    "    chain_type=\"refine\",\n",
    "    question_prompt=prompt,\n",
    "    refine_prompt=refine_prompt,\n",
    "    return_intermediate_steps=True,\n",
    "    input_key=\"input_documents\",\n",
    "    output_key=\"output_text\",\n",
    ")\n",
    "\n",
    "# Run the chain with the provided chunks\n",
    "result = chain({\"input_documents\": chunks})\n",
    "output_text = result[\"output_text\"]"
   ]
  },
  {
   "cell_type": "markdown",
   "metadata": {},
   "source": [
    "Few main reasons for using langchain for this task:\n",
    "\n",
    "Prompt Management and Optimization: Langchain offers tools for managing and optimizing prompts, which is crucial for generating accurate and relevant summaries.\n",
    "\n",
    "Data Augmented Generation: This feature allows Langchain to fetch relevant data from external sources before generating summaries, ensuring that the output is both comprehensive and contextually accurate.\n",
    "\n",
    "Chains and Agents: Langchain's architecture supports the creation of chains and agents, which can perform a series of LLM calls or actions based on the data retrieved, leading to more dynamic and intelligent summarization processes."
   ]
  }
 ],
 "metadata": {
  "kernelspec": {
   "display_name": "env_summarizer",
   "language": "python",
   "name": "python3"
  },
  "language_info": {
   "codemirror_mode": {
    "name": "ipython",
    "version": 3
   },
   "file_extension": ".py",
   "mimetype": "text/x-python",
   "name": "python",
   "nbconvert_exporter": "python",
   "pygments_lexer": "ipython3",
   "version": "3.8.10"
  }
 },
 "nbformat": 4,
 "nbformat_minor": 2
}
